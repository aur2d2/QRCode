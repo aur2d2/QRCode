{
 "cells": [
  {
   "cell_type": "code",
   "execution_count": 1,
   "id": "b9a15be4",
   "metadata": {},
   "outputs": [],
   "source": [
    "import pyqrcode\n",
    "import png\n",
    "from pyqrcode import QRCode"
   ]
  },
  {
   "cell_type": "code",
   "execution_count": 3,
   "id": "cdc69141",
   "metadata": {},
   "outputs": [],
   "source": [
    "site = \"https://www.youtube.com/watch?v=dQw4w9WgXcQ\"\n",
    "url_qr = pyqrcode.create(site)"
   ]
  },
  {
   "cell_type": "code",
   "execution_count": 5,
   "id": "a6cb7dd3",
   "metadata": {},
   "outputs": [],
   "source": [
    "url_qr.svg(\"great.svg\", scale = 8)\n",
    "url_qr.png(\"great.png\", scale = 8)"
   ]
  },
  {
   "cell_type": "code",
   "execution_count": null,
   "id": "f21a80c0",
   "metadata": {},
   "outputs": [],
   "source": []
  }
 ],
 "metadata": {
  "kernelspec": {
   "display_name": "Python 3 (ipykernel)",
   "language": "python",
   "name": "python3"
  },
  "language_info": {
   "codemirror_mode": {
    "name": "ipython",
    "version": 3
   },
   "file_extension": ".py",
   "mimetype": "text/x-python",
   "name": "python",
   "nbconvert_exporter": "python",
   "pygments_lexer": "ipython3",
   "version": "3.9.5"
  }
 },
 "nbformat": 4,
 "nbformat_minor": 5
}
